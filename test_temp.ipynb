{
 "cells": [
  {
   "cell_type": "code",
   "execution_count": 2,
   "metadata": {},
   "outputs": [
    {
     "name": "stdout",
     "output_type": "stream",
     "text": [
      "[[3, 3, 3, 3, 3, 3, 3, 3, 3, 3], [3, 3, 3, 3, 3, 3, 3, 3, 3, 3], [3, 3, 3, 3, 3, 3, 3, 3, 3, 3], [3, 3, 3, 3, 3, 3, 3, 3, 3, 3], [3, 3, 3, 3, 3, 3, 3, 3, 3, 3]]\n"
     ]
    }
   ],
   "source": [
    "k = 10\n",
    "x = 5\n",
    "\n",
    "Q = [[3]*k]*x\n",
    "\n",
    "print(Q)"
   ]
  },
  {
   "cell_type": "code",
   "execution_count": 3,
   "metadata": {},
   "outputs": [
    {
     "name": "stdout",
     "output_type": "stream",
     "text": [
      "[[5. 5. 5. 5. 5. 5. 5. 5. 5. 5.]\n",
      " [5. 5. 5. 5. 5. 5. 5. 5. 5. 5.]\n",
      " [5. 5. 5. 5. 5. 5. 5. 5. 5. 5.]\n",
      " [5. 5. 5. 5. 5. 5. 5. 5. 5. 5.]\n",
      " [5. 5. 5. 5. 5. 5. 5. 5. 5. 5.]]\n"
     ]
    }
   ],
   "source": [
    "import numpy as np\n",
    "Q = np.ones((5, 10))*5\n",
    "\n",
    "print(Q)"
   ]
  },
  {
   "cell_type": "code",
   "execution_count": 4,
   "metadata": {},
   "outputs": [
    {
     "name": "stdout",
     "output_type": "stream",
     "text": [
      "[[10. 10. 10. 10. 10. 10. 10. 10. 10. 10.]\n",
      " [10. 10. 10. 10. 10. 10. 10. 10. 10. 10.]\n",
      " [10. 10. 10. 10. 10. 10. 10. 10. 10. 10.]\n",
      " [10. 10. 10. 10. 10. 10. 10. 10. 10. 10.]\n",
      " [10. 10. 10. 10. 10. 10. 10. 10. 10. 10.]]\n"
     ]
    }
   ],
   "source": [
    "Q = Q + 5\n",
    "\n",
    "print(Q)"
   ]
  },
  {
   "cell_type": "code",
   "execution_count": 5,
   "metadata": {},
   "outputs": [
    {
     "name": "stdout",
     "output_type": "stream",
     "text": [
      "3\n"
     ]
    }
   ],
   "source": [
    "s = np.array([3,42,11,2,3,5,6])\n",
    "x = np.argmax(1/s)\n",
    "print(x)"
   ]
  },
  {
   "cell_type": "code",
   "execution_count": 6,
   "metadata": {},
   "outputs": [
    {
     "ename": "NameError",
     "evalue": "name 't' is not defined",
     "output_type": "error",
     "traceback": [
      "\u001b[1;31m---------------------------------------------------------------------------\u001b[0m",
      "\u001b[1;31mNameError\u001b[0m                                 Traceback (most recent call last)",
      "Cell \u001b[1;32mIn[6], line 2\u001b[0m\n\u001b[0;32m      1\u001b[0m c \u001b[38;5;241m=\u001b[39m \u001b[38;5;241m2\u001b[39m \u001b[38;5;66;03m# degree of exploration\u001b[39;00m\n\u001b[1;32m----> 2\u001b[0m sq_term \u001b[38;5;241m=\u001b[39m np\u001b[38;5;241m.\u001b[39msqrt((np\u001b[38;5;241m.\u001b[39mlog(\u001b[43mt\u001b[49m)\u001b[38;5;241m/\u001b[39mN_values[i]))\n\u001b[0;32m      3\u001b[0m act \u001b[38;5;241m=\u001b[39m np\u001b[38;5;241m.\u001b[39margmax(Q_values[i]\u001b[38;5;241m+\u001b[39mc\u001b[38;5;241m*\u001b[39msq_term)\n",
      "\u001b[1;31mNameError\u001b[0m: name 't' is not defined"
     ]
    }
   ],
   "source": [
    "c = 2 # degree of exploration\n",
    "sq_term = np.sqrt((np.log(t)/N_values[i]))\n",
    "act = np.argmax(Q_values[i]+c*sq_term)"
   ]
  },
  {
   "cell_type": "code",
   "execution_count": 23,
   "metadata": {},
   "outputs": [
    {
     "name": "stdout",
     "output_type": "stream",
     "text": [
      "nothing selected\n",
      "nothing selected\n",
      "3\n",
      "3\n",
      "nothing selected\n",
      "2\n",
      "nothing selected\n",
      "0\n",
      "3\n",
      "2\n",
      "nothing selected\n",
      "0\n",
      "2\n",
      "2\n",
      "nothing selected\n",
      "2\n",
      "0\n",
      "0\n",
      "3\n",
      "2\n",
      "2\n",
      "2\n",
      "nothing selected\n",
      "0\n",
      "nothing selected\n",
      "1\n",
      "0\n",
      "2\n",
      "1\n",
      "3\n",
      "nothing selected\n",
      "0\n",
      "1\n",
      "nothing selected\n",
      "3\n",
      "2\n",
      "3\n",
      "nothing selected\n",
      "nothing selected\n",
      "0\n",
      "nothing selected\n",
      "0\n",
      "3\n",
      "2\n",
      "0\n",
      "2\n",
      "1\n",
      "0\n",
      "nothing selected\n",
      "nothing selected\n",
      "1\n",
      "0\n",
      "3\n",
      "2\n",
      "nothing selected\n",
      "0\n",
      "2\n",
      "0\n",
      "2\n",
      "nothing selected\n",
      "1\n",
      "3\n",
      "0\n",
      "2\n",
      "0\n",
      "0\n",
      "3\n",
      "2\n",
      "2\n",
      "0\n",
      "nothing selected\n",
      "nothing selected\n",
      "nothing selected\n",
      "2\n",
      "2\n",
      "1\n",
      "3\n",
      "nothing selected\n",
      "nothing selected\n",
      "2\n",
      "2\n",
      "2\n",
      "nothing selected\n",
      "1\n",
      "nothing selected\n",
      "nothing selected\n",
      "1\n",
      "2\n",
      "3\n",
      "2\n",
      "nothing selected\n",
      "2\n",
      "nothing selected\n",
      "0\n",
      "0\n",
      "0\n",
      "0\n",
      "3\n",
      "nothing selected\n",
      "2\n"
     ]
    }
   ],
   "source": [
    "import numpy as np\n",
    "probs = [.3, .2, .3, .4]\n",
    "\n",
    "for _ in range(100):\n",
    "    for i in range(4):\n",
    "        if np.random.random() < probs[i]:\n",
    "            print(i)\n",
    "            break\n",
    "        if (i==3):\n",
    "            print('nothing selected')\n",
    "    "
   ]
  },
  {
   "cell_type": "code",
   "execution_count": 39,
   "metadata": {},
   "outputs": [
    {
     "name": "stdout",
     "output_type": "stream",
     "text": [
      "[[9. 9. 9. 9. 9. 9. 9. 9. 9. 9.]\n",
      " [9. 9. 9. 9. 9. 9. 9. 9. 9. 9.]\n",
      " [9. 9. 9. 9. 9. 9. 9. 9. 9. 9.]\n",
      " [9. 9. 9. 9. 9. 9. 9. 9. 9. 9.]]\n"
     ]
    }
   ],
   "source": [
    "import numpy as np\n",
    "n_bandits = 4\n",
    "k = 10\n",
    "\n",
    "H = np.ones((n_bandits, k)) * np.random.randint(k)\n",
    "print(H)"
   ]
  },
  {
   "cell_type": "code",
   "execution_count": 40,
   "metadata": {},
   "outputs": [
    {
     "name": "stdout",
     "output_type": "stream",
     "text": [
      "9.0 9.0\n"
     ]
    }
   ],
   "source": [
    "x = H[1][2]\n",
    "y = H[1,2]\n",
    "\n",
    "print(x,y)"
   ]
  },
  {
   "cell_type": "code",
   "execution_count": 1,
   "metadata": {},
   "outputs": [
    {
     "name": "stdout",
     "output_type": "stream",
     "text": [
      "[2, 4, 2, 5, 4, 3, 2, 1]\n",
      "[1, 2] [4, 5, 2, 4, 2]\n"
     ]
    }
   ],
   "source": [
    "x = [1,2,3,4,5,2,4,2]\n",
    "y = x[::-1]\n",
    "print(y)\n",
    "\n",
    "w1 = x[:2]\n",
    "w2 = x[3:]\n",
    "\n",
    "print(w1,w2)\n",
    "\n"
   ]
  },
  {
   "cell_type": "code",
   "execution_count": 3,
   "metadata": {},
   "outputs": [
    {
     "data": {
      "text/plain": [
       "[2, 3, 4, 5]"
      ]
     },
     "execution_count": 3,
     "metadata": {},
     "output_type": "execute_result"
    }
   ],
   "source": [
    "x[1:5]"
   ]
  }
 ],
 "metadata": {
  "kernelspec": {
   "display_name": "Python 3",
   "language": "python",
   "name": "python3"
  },
  "language_info": {
   "codemirror_mode": {
    "name": "ipython",
    "version": 3
   },
   "file_extension": ".py",
   "mimetype": "text/x-python",
   "name": "python",
   "nbconvert_exporter": "python",
   "pygments_lexer": "ipython3",
   "version": "3.12.0"
  }
 },
 "nbformat": 4,
 "nbformat_minor": 2
}
